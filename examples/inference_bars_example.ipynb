{
 "cells": [
  {
   "cell_type": "code",
   "execution_count": 42,
   "id": "116276f7",
   "metadata": {},
   "outputs": [],
   "source": [
    "import os\n",
    "import time\n",
    "import torch\n",
    "import pickle as pkl\n",
    "\n",
    "import matplotlib.pyplot as plt\n",
    "import numpy as np\n",
    "from scipy.io import loadmat\n",
    "\n",
    "from sparsecoding.preprocess import patch_images, preprocess_images\n",
    "from sparsecoding import inference\n",
    "\n",
    "from sparsecoding.visualization import plot_dictionary"
   ]
  },
  {
   "cell_type": "markdown",
   "id": "7c1e8bb3",
   "metadata": {},
   "source": [
    "## Load bar dictionary\n",
    "\n",
    "A good way of evaluating whether or not a inference method is working correctly is by generating data from a known dictionary. In this notebook, this is done using a dictionary consisting of horizontal/vertical bars. This dictionary is provided in a pickle file in this rep"
   ]
  },
  {
   "cell_type": "code",
   "execution_count": 51,
   "id": "a9532c7e",
   "metadata": {},
   "outputs": [
    {
     "data": {
      "image/png": "[encoded data removed]",
      "text/plain": [
       "<Figure size 576x576 with 1 Axes>"
      ]
     },
     "metadata": {
      "needs_background": "light"
     },
     "output_type": "display_data"
    }
   ],
   "source": [
    "patch_size = 16\n",
    "n_basis = 2*patch_size\n",
    "\n",
    "# load bars dictionary \n",
    "dictionary_file = open('../dictionaries/bars-16_by_16.p','rb')\n",
    "numpy_dictionary = pkl.load(dictionary_file)\n",
    "dictionary_file.close()\n",
    "dictionary = torch.tensor(numpy_dictionary.astype(np.float32))\n",
    "\n",
    "nrow = 8\n",
    "fig,ax = plot_dictionary(dictionary,nrow=nrow,size=8)"
   ]
  },
  {
   "cell_type": "markdown",
   "id": "291457ef",
   "metadata": {},
   "source": [
    "## Generate random data from bars dictionary"
   ]
  },
  {
   "cell_type": "code",
   "execution_count": 58,
   "id": "93b5ed39",
   "metadata": {},
   "outputs": [],
   "source": [
    "n_samples = 100\n",
    "min_coefficient_val = 0.8\n",
    "\n",
    "# generate coefficients\n",
    "coefficients = torch.rand([n_samples,n_basis]) \n",
    "coefficients[coefficients < min_coefficient_val] = 0\n",
    "\n",
    "# generate dataset\n",
    "data = (dictionary@coefficients.t()).t()"
   ]
  },
  {
   "cell_type": "code",
   "execution_count": 60,
   "id": "ad40de0a",
   "metadata": {},
   "outputs": [
    {
     "data": {
      "image/png": "[encoded data removed]",
      "text/plain": [
       "<Figure size 288x288 with 9 Axes>"
      ]
     },
     "metadata": {
      "needs_background": "light"
     },
     "output_type": "display_data"
    }
   ],
   "source": [
    "figure = plt.figure(figsize=(4,4))\n",
    "cols, rows = 3, 3\n",
    "for i in range(1, cols * rows + 1):\n",
    "    sample_idx = torch.randint(len(data), size=(1,)).item()\n",
    "    img = (data[sample_idx])\n",
    "    figure.add_subplot(rows, cols, i)\n",
    "    plt.axis(\"off\")\n",
    "    plt.imshow(img.squeeze().reshape([patch_size,patch_size]), cmap=\"gray\")\n",
    "plt.show()"
   ]
  },
  {
   "cell_type": "code",
   "execution_count": 61,
   "id": "cb7fb67e",
   "metadata": {},
   "outputs": [],
   "source": [
    "# The Locally Competitive Algorithm\n",
    "lca = inference.LCA(coeff_lr=1e-3,threshold=0.1,n_iter=300)\n",
    "A = lca.infer(data,dictionary)\n",
    "\n",
    "reconstruction = (dictionary@A.t()).t()"
   ]
  },
  {
   "cell_type": "code",
   "execution_count": 63,
   "id": "db67eacc",
   "metadata": {},
   "outputs": [
    {
     "data": {
      "image/png": "[encoded data removed]",
      "text/plain": [
       "<Figure size 864x216 with 3 Axes>"
      ]
     },
     "metadata": {
      "needs_background": "light"
     },
     "output_type": "display_data"
    }
   ],
   "source": [
    "fig,(ax1,ax2,ax3)=  plt.subplots(figsize=(12,3),nrows=1, ncols=3)\n",
    "ax1.imshow(data[0,:].detach().reshape(patch_size,patch_size))\n",
    "ax1.set_title('Image Patch')\n",
    "\n",
    "ax2.imshow(reconstruction[0,:].detach().reshape(patch_size,patch_size))\n",
    "ax2.set_title('Reconstruction')\n",
    "\n",
    "ax3.stem(A[0,:].reshape(-1))\n",
    "ax3.set_title('Coefficients')\n",
    "plt.show()"
   ]
  },
  {
   "cell_type": "code",
   "execution_count": 64,
   "id": "31bc72eb",
   "metadata": {},
   "outputs": [],
   "source": [
    "# Vanilla inference method\n",
    "vanilla = inference.Vanilla(coeff_lr=1e-3,sparsity_penalty=1,n_iter=300)\n",
    "A = vanilla.infer(data,dictionary)\n",
    "reconstruction = (dictionary@A.t()).t()"
   ]
  },
  {
   "cell_type": "code",
   "execution_count": 66,
   "id": "ffd73b73",
   "metadata": {},
   "outputs": [
    {
     "data": {
      "image/png": "[encoded data removed]",
      "text/plain": [
       "<Figure size 864x216 with 3 Axes>"
      ]
     },
     "metadata": {
      "needs_background": "light"
     },
     "output_type": "display_data"
    }
   ],
   "source": [
    "fig,(ax1,ax2,ax3)=  plt.subplots(figsize=(12,3),nrows=1, ncols=3)\n",
    "ax1.imshow(data[1,:].detach().reshape(patch_size,patch_size))\n",
    "ax1.set_title('Image Patch')\n",
    "\n",
    "ax2.imshow(reconstruction[1,:].detach().reshape(patch_size,patch_size))\n",
    "ax2.set_title('Reconstruction')\n",
    "\n",
    "ax3.stem(A[1,:].reshape(-1))\n",
    "ax3.set_title('Coefficients')\n",
    "plt.show()"
   ]
  }
 ],
 "metadata": {
  "kernelspec": {
   "display_name": "Python 3 (ipykernel)",
   "language": "python",
   "name": "python3"
  },
  "language_info": {
   "codemirror_mode": {
    "name": "ipython",
    "version": 3
   },
   "file_extension": ".py",
   "mimetype": "text/x-python",
   "name": "python",
   "nbconvert_exporter": "python",
   "pygments_lexer": "ipython3",
   "version": "3.9.7"
  }
 },
 "nbformat": 4,
 "nbformat_minor": 5
}
